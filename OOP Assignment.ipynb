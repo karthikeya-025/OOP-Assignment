{
 "cells": [
  {
   "cell_type": "markdown",
   "id": "e425b8c4",
   "metadata": {},
   "source": [
    "# Challenge 1:Square Numbers and Return Their Sum"
   ]
  },
  {
   "cell_type": "code",
   "execution_count": 27,
   "id": "632b60b3",
   "metadata": {},
   "outputs": [],
   "source": [
    "class Point:\n",
    "    def __init__(self,x,y,z):\n",
    "        self.x = x\n",
    "        self.y = y\n",
    "        self.z = z \n",
    "    def sqSum(self):\n",
    "        square_x = self.x*self.x\n",
    "        square_y = self.y*self.y\n",
    "        square_z = self.z*self.z\n",
    "        return print(square_x+square_y+square_z)\n"
   ]
  },
  {
   "cell_type": "code",
   "execution_count": 29,
   "id": "5d81b606",
   "metadata": {},
   "outputs": [
    {
     "name": "stdout",
     "output_type": "stream",
     "text": [
      "35\n"
     ]
    }
   ],
   "source": [
    "sum_of_sq = Point(1,3,5)\n",
    "\n",
    "sum_of_sq.sqSum()"
   ]
  },
  {
   "cell_type": "markdown",
   "id": "335c2ada",
   "metadata": {},
   "source": [
    "# Challenge 2: Implement a Calculator Class"
   ]
  },
  {
   "cell_type": "code",
   "execution_count": 40,
   "id": "4a267ee8",
   "metadata": {},
   "outputs": [],
   "source": [
    "class Calculator:\n",
    "    def __init__(self,num1,num2):\n",
    "        self.num1=num1\n",
    "        self.num2=num2\n",
    "    def add(self):\n",
    "        return print(self.num1+self.num2)\n",
    "    def subtract(self):\n",
    "        return print(self.num2-self.num1)\n",
    "    def multiply(self):\n",
    "        return print(self.num1*self.num2)\n",
    "    def divide(self):\n",
    "        return print(self.num2/self.num1)\n"
   ]
  },
  {
   "cell_type": "code",
   "execution_count": 42,
   "id": "9b399f95",
   "metadata": {},
   "outputs": [
    {
     "name": "stdout",
     "output_type": "stream",
     "text": [
      "104\n",
      "84\n",
      "940\n",
      "9.4\n"
     ]
    }
   ],
   "source": [
    "calc = Calculator(10,94)\n",
    "\n",
    "calc.add()\n",
    "calc.subtract()\n",
    "calc.multiply()\n",
    "calc.divide()"
   ]
  },
  {
   "cell_type": "markdown",
   "id": "5caa59cc",
   "metadata": {},
   "source": [
    "# Challenge 3: Implement the Complete Student Class"
   ]
  },
  {
   "cell_type": "code",
   "execution_count": 44,
   "id": "3846b69c",
   "metadata": {},
   "outputs": [],
   "source": [
    "class Student:\n",
    "    def getName(self):\n",
    "        return self._name\n",
    "    def setName(self,name):\n",
    "        self._name = name\n",
    "    def getRollNo(self):\n",
    "        return self._rollno\n",
    "    def setRollNo(self,rollno):\n",
    "        self._rollno = rollno\n",
    "    name = property(getName,setName)\n",
    "    rollno = property(getRollNo,setRollNo)"
   ]
  },
  {
   "cell_type": "code",
   "execution_count": 48,
   "id": "5d280c7e",
   "metadata": {},
   "outputs": [
    {
     "name": "stdout",
     "output_type": "stream",
     "text": [
      "Karthikeya\n",
      "76\n"
     ]
    }
   ],
   "source": [
    "student_1 = Student()\n",
    "\n",
    "student_1.name = 'Karthikeya'\n",
    "student_1.rollno = 76\n",
    "\n",
    "print(student.name)\n",
    "print(student.rollno)"
   ]
  },
  {
   "cell_type": "code",
   "execution_count": null,
   "id": "09732db7",
   "metadata": {},
   "outputs": [],
   "source": []
  },
  {
   "cell_type": "markdown",
   "id": "8bd06d6a",
   "metadata": {},
   "source": [
    "# Challenge 4: Implement a Banking Account"
   ]
  },
  {
   "cell_type": "code",
   "execution_count": 75,
   "id": "df82ff59",
   "metadata": {},
   "outputs": [],
   "source": [
    "class Account:\n",
    "\n",
    "    def __init__(self,title=None,balance=0):\n",
    "        self.title = title\n",
    "        self.balance = balance\n",
    "\n",
    "class SavingsAccount(Account):\n",
    "\n",
    "    def __init__(self,title=None,balance=0,interestRate=0):\n",
    "        super().__init__(title,balance)\n",
    "        self.interestRate=interestRate\n",
    "        "
   ]
  },
  {
   "cell_type": "markdown",
   "id": "beeac285",
   "metadata": {},
   "source": [
    "# Challenge 5: Handling a Bank Account\n"
   ]
  },
  {
   "cell_type": "code",
   "execution_count": 76,
   "id": "3ee952f4",
   "metadata": {},
   "outputs": [],
   "source": [
    "class Account:\n",
    "\n",
    "    def __init__(self,title=None,balance=0):\n",
    "        self.title = title\n",
    "        self.balance = balance\n",
    "    def getBalance(self):\n",
    "        return self.balance\n",
    "    def deposit(self,amount):\n",
    "        self.balance+=amount\n",
    "    def withdraw(self,amount):\n",
    "        self.balance-=amount\n",
    "    \n",
    "class SavingsAccount(Account):\n",
    "    def __init__(self,title=None, balance=0, interestRate=0):\n",
    "        super().__init__(title,balance)\n",
    "        self.interest_rate = interestRate\n",
    "    def interestAmount(self):\n",
    "        int_amount = (self.interest_rate*self.balance)/100\n",
    "        return int_amount"
   ]
  },
  {
   "cell_type": "code",
   "execution_count": 78,
   "id": "ac6eba48",
   "metadata": {},
   "outputs": [
    {
     "name": "stdout",
     "output_type": "stream",
     "text": [
      "100.0\n"
     ]
    },
    {
     "data": {
      "text/plain": [
       "1500"
      ]
     },
     "execution_count": 78,
     "metadata": {},
     "output_type": "execute_result"
    }
   ],
   "source": [
    "demo1 = SavingsAccount(\"Ashish\", 2000,5)\n",
    "demo1.interestAmount()\n",
    "\n"
   ]
  }
 ],
 "metadata": {
  "kernelspec": {
   "display_name": "Python 3 (ipykernel)",
   "language": "python",
   "name": "python3"
  },
  "language_info": {
   "codemirror_mode": {
    "name": "ipython",
    "version": 3
   },
   "file_extension": ".py",
   "mimetype": "text/x-python",
   "name": "python",
   "nbconvert_exporter": "python",
   "pygments_lexer": "ipython3",
   "version": "3.10.9"
  }
 },
 "nbformat": 4,
 "nbformat_minor": 5
}
